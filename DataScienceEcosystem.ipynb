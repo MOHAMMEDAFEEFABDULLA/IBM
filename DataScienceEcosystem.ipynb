{
 "cells": [
  {
   "cell_type": "markdown",
   "id": "7f373320-6f63-4f73-bb76-673869dddfe0",
   "metadata": {},
   "source": [
    "# Data Science Tools and Ecosystem"
   ]
  },
  {
   "cell_type": "markdown",
   "id": "a9d036f7-c41e-471f-9656-402cd0da1b00",
   "metadata": {},
   "source": [
    "In this notebook, Data Science Tools and Ecosystem are summarized."
   ]
  },
  {
   "cell_type": "markdown",
   "id": "4f8abca0-076c-4004-894f-2c948b86ef6b",
   "metadata": {},
   "source": [
    "Some of the popular languages that Data Scientists use are:\n",
    "1. Python\n",
    "2. Sql\n",
    "3. R\n",
    "4. C++\n",
    "5. Java etc..."
   ]
  },
  {
   "cell_type": "markdown",
   "id": "82f06056-fcc9-419b-ad15-0f8711dbb4dd",
   "metadata": {},
   "source": [
    "Some of the commonly used libraries used by Data Scientists include:\n",
    "1. Numpy\n",
    "2. ggplot\n",
    "3. pandas\n",
    "4. matplotlib\n",
    "5. keras\n",
    "6. tensorflow etc..."
   ]
  },
  {
   "cell_type": "markdown",
   "id": "95f8b9db-8b30-41fb-a8fc-2625c5036ada",
   "metadata": {},
   "source": [
    "|Data Science Tools|\n",
    "|---|\n",
    "|SAS|\n",
    "|Apache Hadoop|\n",
    "|Tensorflow|"
   ]
  },
  {
   "cell_type": "markdown",
   "id": "86e2792a-6bd2-4c53-8398-1f229b56c210",
   "metadata": {},
   "source": [
    "### Below are a few examples of evaluating arithmetic expressions in Python"
   ]
  },
  {
   "cell_type": "code",
   "execution_count": 5,
   "id": "fe5f7daf-c22c-4db8-8737-9f427e21763a",
   "metadata": {},
   "outputs": [
    {
     "data": {
      "text/plain": [
       "17"
      ]
     },
     "execution_count": 5,
     "metadata": {},
     "output_type": "execute_result"
    }
   ],
   "source": [
    "# This a simple arithmetic expression to mutiply then add integers\n",
    "(3*4)+5"
   ]
  },
  {
   "cell_type": "code",
   "execution_count": 6,
   "id": "2374a639-c218-4767-a3ab-52d5b5e30c9b",
   "metadata": {},
   "outputs": [
    {
     "data": {
      "text/plain": [
       "3.3333333333333335"
      ]
     },
     "execution_count": 6,
     "metadata": {},
     "output_type": "execute_result"
    }
   ],
   "source": [
    "# This will convert 200 minutes to hours by diving by 60\n",
    "200/60"
   ]
  },
  {
   "cell_type": "markdown",
   "id": "917ffe4c-a79c-4a57-8a6d-bcd14e530c67",
   "metadata": {},
   "source": [
    "__objectives:__\n",
    "* List of popular languages used in data science\n",
    "* List of popular libraries used in data science\n",
    "* List of well-known data science tools\n",
    "* How to provide comments in the cells"
   ]
  },
  {
   "cell_type": "markdown",
   "id": "6e831810-0d10-4721-b630-e5093f264581",
   "metadata": {},
   "source": [
    "## Author\n",
    "Mohammed Afeef Abdulla"
   ]
  }
 ],
 "metadata": {
  "kernelspec": {
   "display_name": "Python 3 (ipykernel)",
   "language": "python",
   "name": "python3"
  },
  "language_info": {
   "codemirror_mode": {
    "name": "ipython",
    "version": 3
   },
   "file_extension": ".py",
   "mimetype": "text/x-python",
   "name": "python",
   "nbconvert_exporter": "python",
   "pygments_lexer": "ipython3",
   "version": "3.11.9"
  }
 },
 "nbformat": 4,
 "nbformat_minor": 5
}
